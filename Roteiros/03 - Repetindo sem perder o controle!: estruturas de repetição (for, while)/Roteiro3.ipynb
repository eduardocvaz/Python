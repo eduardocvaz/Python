{
  "nbformat": 4,
  "nbformat_minor": 0,
  "metadata": {
    "kernelspec": {
      "display_name": "Python 3",
      "language": "python",
      "name": "python3"
    },
    "language_info": {
      "codemirror_mode": {
        "name": "ipython",
        "version": 3
      },
      "file_extension": ".py",
      "mimetype": "text/x-python",
      "name": "python",
      "nbconvert_exporter": "python",
      "pygments_lexer": "ipython3",
      "version": "3.6.8"
    },
    "colab": {
      "name": "Cópia de 03.ipynb",
      "provenance": [],
      "collapsed_sections": [
        "yX1ZRZYSk3s0",
        "PPGRLOnzk3s4",
        "-cO8geGTk3s7",
        "_StFtGCNk3s9",
        "LSgNujJTk3s-",
        "tVlipPHKk3s-",
        "KH1w2-vGk3s_"
      ]
    }
  },
  "cells": [
    {
      "cell_type": "markdown",
      "metadata": {
        "id": "tbzflPWPk3sl"
      },
      "source": [
        "<small><small><i>\n",
        "Este notebook foi baseado nos notebooks disponíveis em [https://gitlab.erc.monash.edu.au/andrease/Python4Maths.git]\n",
        "</i></small></small>"
      ]
    },
    {
      "cell_type": "markdown",
      "metadata": {
        "id": "lUPJLJJXk3sz"
      },
      "source": [
        "# Repetindo sem perder o controle!\n",
        "\n",
        "Python permite que um trecho de código seja executado múltiplas vezes **estruturas de repetição**. \n",
        "\n",
        "Pra não perder o controle do seu código e cair em um loop infinito, estruturas de repetição se baseiam em **condições de parada**.\n",
        "\n",
        "Neste roteiro, você aprenderá a utilizar estes conceitos da linguagem Python.\n",
        "\n",
        "## Estruturas de repetição\n",
        "\n",
        "Muitas vezes, é necessário executar um mesmo trecho de código várias vezes:\n",
        "* Quando um sistema pede uma senha ao usuário, mas ele tem uma certa quantidade de tentativas possívels.\n",
        "* Quando queremos cadastrar múltiplos contatos em uma agenda.\n",
        "* Quando estamos calculando a média de várias avaliações de uma disciplina.\n",
        "\n",
        "Em todas essas situações, precisamos repetir um trecho de código **sem cair em um loop infinito**. Há três situações comuns:\n",
        "* Sabemos quantas vezes queremos executar um código.\n",
        "* Queremos executar um código enquanto uma condição for verdadeira.\n",
        "* Queremos executar um código até que determinada situação aconteça.\n",
        "\n",
        "Python oferece duas estruturas de repetição, que podem ser usadas nas situações descritas acima:"
      ]
    },
    {
      "cell_type": "markdown",
      "metadata": {
        "id": "haO0iXXEk3s0"
      },
      "source": [
        "| Estrutura | Significado |\n",
        "|:----:|:--|\n",
        "| ```for``` | Sabemos quantas vezes queremos executar um código.  <br> Queremos iterar sobre os elementos de uma coleção.|\n",
        "| ```while```  | Queremos executar um código até que determinada situação aconteça. <br> Queremos executar um código enquanto uma condição for verdadeira. |"
      ]
    },
    {
      "cell_type": "markdown",
      "metadata": {
        "id": "yX1ZRZYSk3s0"
      },
      "source": [
        "## A estrutura ```for```"
      ]
    },
    {
      "cell_type": "markdown",
      "metadata": {
        "id": "hRd5LvXFk3s1"
      },
      "source": [
        "Quando sabemos quantas vezes queremos executar um código, a estrutura de repetição ```for``` deve ser nossa escolha:\n",
        "\n",
        "```python\n",
        "for iterador in intervalo:\n",
        "    expressao\n",
        "    expressao\n",
        "    ...\n",
        "```\n",
        "\n",
        "As regras básicas para o uso da estrutura **for** em Python são:\n",
        "\n",
        "* O trecho de código delimitado por uma estrutura **for** é chamado bloco e deve ser identado.\n",
        "* O procedimento **range(inicio, fim)** permite definir um intervalo de valores que a variavel **iterador** pode assumir durante a execução do ```for```. \n",
        "\n",
        "O exemplo abaixo mostra como esta estrutura pode ser usada para que um código seja repetido por 5 vezes:"
      ]
    },
    {
      "cell_type": "code",
      "metadata": {
        "collapsed": true,
        "scrolled": true,
        "id": "bV8puv9sk3s1"
      },
      "source": [
        "for i in range(0,5):\n",
        "    print(\"Execução\", i+1)"
      ],
      "execution_count": null,
      "outputs": []
    },
    {
      "cell_type": "markdown",
      "metadata": {
        "id": "yeCCAQ7yk3s2"
      },
      "source": [
        "Note que a função range define intervalos do tipo **[início, fim)**, isto é, valores maiores ou iguais a **início** e menores que **fim**.\n",
        "\n",
        "Também é possível definir intervalos mais elaborados, criando séries com diferentes crescimentos ou até mesmo decréscimos:"
      ]
    },
    {
      "cell_type": "code",
      "metadata": {
        "collapsed": true,
        "scrolled": true,
        "id": "KJacSgs0k3s3"
      },
      "source": [
        "# Série crescedo de 2 em 2\n",
        "for i in range(0,5,2):\n",
        "    print(\"Valor de i:\", i)"
      ],
      "execution_count": null,
      "outputs": []
    },
    {
      "cell_type": "code",
      "metadata": {
        "collapsed": true,
        "scrolled": true,
        "id": "B84vOLElk3s3"
      },
      "source": [
        "# Série decrescendo de 5 em 5\n",
        "for i in range(15,-20,-5):\n",
        "    print(\"Valor de i:\", i)"
      ],
      "execution_count": null,
      "outputs": []
    },
    {
      "cell_type": "markdown",
      "metadata": {
        "id": "PPGRLOnzk3s4"
      },
      "source": [
        "### Exercícios de fixação"
      ]
    },
    {
      "cell_type": "markdown",
      "metadata": {
        "id": "7q6woawRk3s4"
      },
      "source": [
        "1 - Peça ao usuário suas notas das 3 unidades de uma disciplina e calcule sua média."
      ]
    },
    {
      "cell_type": "code",
      "metadata": {
        "collapsed": true,
        "id": "BC7S9VZmk3s4",
        "colab": {
          "base_uri": "https://localhost:8080/"
        },
        "outputId": "efd4e474-40ae-4d50-e2cc-bba032612658"
      },
      "source": [
        "nota1 = float(input(\"Digite a primeira nota:\"))\n",
        "nota2 = float(input(\"Digite a segunda nota:\"))\n",
        "nota3 = float(input(\"Digite a terceira nota:\"))\n",
        "print(((nota1+nota2+nota3)/3))"
      ],
      "execution_count": 1,
      "outputs": [
        {
          "output_type": "stream",
          "text": [
            "Digite a primeira nota:4\n",
            "Digite a segunda nota:5\n",
            "Digite a terceira nota:6\n",
            "5.0\n"
          ],
          "name": "stdout"
        }
      ]
    },
    {
      "cell_type": "markdown",
      "metadata": {
        "id": "r5CE70rpk3s5"
      },
      "source": [
        "2 - Solicite ao usuário um inteiro positivo *n* e imprima a soma dos números pares entre 0 e *n*."
      ]
    },
    {
      "cell_type": "code",
      "metadata": {
        "collapsed": true,
        "id": "ycUsTrVGk3s5",
        "colab": {
          "base_uri": "https://localhost:8080/"
        },
        "outputId": "94fc543e-ab06-4b2a-a073-0ea44e168c9c"
      },
      "source": [
        "n = int(input(\"Digite um numero inteiro positivo:\"))\n",
        "soma=0\n",
        "for i in range(0,n):\n",
        "  soma+=i\n",
        "print(soma)\n",
        "  "
      ],
      "execution_count": 4,
      "outputs": [
        {
          "output_type": "stream",
          "text": [
            "Digite um numero inteiro positivo:4\n",
            "6\n"
          ],
          "name": "stdout"
        }
      ]
    },
    {
      "cell_type": "markdown",
      "metadata": {
        "id": "J3i6Ym9Wk3s5"
      },
      "source": [
        "3 - Analise os números entre -25 e 50. Se o número for múltiplo de 2, imprima BUS. Se for múltiplo de 3, imprima FEES. Caso seja múltiplo de 2 e de 3 ao mesmo tempo, imprima BUS e FEES."
      ]
    },
    {
      "cell_type": "code",
      "metadata": {
        "collapsed": true,
        "id": "EZsx_bn4k3s6",
        "colab": {
          "base_uri": "https://localhost:8080/"
        },
        "outputId": "cabd3846-d09f-41a0-98ea-bb140255722f"
      },
      "source": [
        "for i in range(-25,50):\n",
        "  if i%3==0 and i%2==0:\n",
        "    print(\"BUS e FEES\")\n",
        "  if i%3==0:\n",
        "    print(\"FEES\")\n",
        "  if i%2==0:\n",
        "    print(\"BUS\")"
      ],
      "execution_count": 7,
      "outputs": [
        {
          "output_type": "stream",
          "text": [
            "BUS e FEES\n",
            "FEES\n",
            "BUS\n",
            "BUS\n",
            "FEES\n",
            "BUS\n",
            "BUS e FEES\n",
            "FEES\n",
            "BUS\n",
            "BUS\n",
            "FEES\n",
            "BUS\n",
            "BUS e FEES\n",
            "FEES\n",
            "BUS\n",
            "BUS\n",
            "FEES\n",
            "BUS\n",
            "BUS e FEES\n",
            "FEES\n",
            "BUS\n",
            "BUS\n",
            "FEES\n",
            "BUS\n",
            "BUS e FEES\n",
            "FEES\n",
            "BUS\n",
            "BUS\n",
            "FEES\n",
            "BUS\n",
            "BUS e FEES\n",
            "FEES\n",
            "BUS\n",
            "BUS\n",
            "FEES\n",
            "BUS\n",
            "BUS e FEES\n",
            "FEES\n",
            "BUS\n",
            "BUS\n",
            "FEES\n",
            "BUS\n",
            "BUS e FEES\n",
            "FEES\n",
            "BUS\n",
            "BUS\n",
            "FEES\n",
            "BUS\n",
            "BUS e FEES\n",
            "FEES\n",
            "BUS\n",
            "BUS\n",
            "FEES\n",
            "BUS\n",
            "BUS e FEES\n",
            "FEES\n",
            "BUS\n",
            "BUS\n",
            "FEES\n",
            "BUS\n",
            "BUS e FEES\n",
            "FEES\n",
            "BUS\n",
            "BUS\n",
            "FEES\n",
            "BUS\n",
            "BUS e FEES\n",
            "FEES\n",
            "BUS\n",
            "BUS\n",
            "FEES\n",
            "BUS\n",
            "BUS e FEES\n",
            "FEES\n",
            "BUS\n"
          ],
          "name": "stdout"
        }
      ]
    },
    {
      "cell_type": "markdown",
      "metadata": {
        "id": "Ze1RPmmOk3s6"
      },
      "source": [
        "4 - Solicite ao usuário um inteiro positivo *n* e calcule o fatorial de *n*."
      ]
    },
    {
      "cell_type": "code",
      "metadata": {
        "collapsed": true,
        "id": "7EYPpcxGk3s6",
        "colab": {
          "base_uri": "https://localhost:8080/"
        },
        "outputId": "93756073-33d7-4ec0-fb80-7a9963a4232d"
      },
      "source": [
        "n = int(input(\"Digite um numero inteiro positivo:\"))\n",
        "multi=1\n",
        "for i in range(1,n+1):\n",
        "  multi=multi*i\n",
        "print(multi)"
      ],
      "execution_count": 14,
      "outputs": [
        {
          "output_type": "stream",
          "text": [
            "Digite um numero inteiro positivo:5\n",
            "120\n"
          ],
          "name": "stdout"
        }
      ]
    },
    {
      "cell_type": "markdown",
      "metadata": {
        "id": "-cO8geGTk3s7"
      },
      "source": [
        "## A estrutura ```while```"
      ]
    },
    {
      "cell_type": "markdown",
      "metadata": {
        "id": "g6FS0zxtk3s7"
      },
      "source": [
        "Quando queremos executar um código enquanto uma condição for verdadeira, a estrutura de repetição ```while``` deve ser nossa escolha:\n",
        "\n",
        "```python\n",
        "while condicao:\n",
        "    expressao\n",
        "    expressao\n",
        "    ...\n",
        "```\n",
        "\n",
        "As regras básicas para o uso da estrutura **while** em Python são:\n",
        "\n",
        "* O trecho de código delimitado por uma estrutura **while** é chamado bloco e deve ser identado.\n",
        "* O bloco delimitado por uma estrutura **while** será executado enquanto a expressão lógica (```condicao```) for verdadeira (```True```).\n",
        "\n",
        "Um exemplo de uso desta estrutura é o caso em que não se sabe quantas vezes será necessário executar um trecho de código:"
      ]
    },
    {
      "cell_type": "code",
      "metadata": {
        "collapsed": true,
        "scrolled": true,
        "id": "eSCyvnVok3s7"
      },
      "source": [
        "from random import randint\n",
        "\n",
        "n_multiplos = 0\n",
        "while n_multiplos < 3:\n",
        "    numero = randint(0,30)\n",
        "    if numero % 3 == 0:\n",
        "        n_multiplos += 1\n",
        "        print(\"Múltiplo #\", n_multiplos, \"-\", numero)"
      ],
      "execution_count": null,
      "outputs": []
    },
    {
      "cell_type": "markdown",
      "metadata": {
        "id": "Ke-S2FtDk3s8"
      },
      "source": [
        "Também é possível utilizar a estrutura de repetição ```while``` quando queremos executar um código até que uma determinada situação ocorra:\n",
        "\n",
        "```python\n",
        "while True:\n",
        "    expressao\n",
        "    expressao\n",
        "    ...\n",
        "    if condicao:\n",
        "        break\n",
        "```\n",
        "\n",
        "As regras básicas para o uso da estrutura **while** neste contexto são:\n",
        "\n",
        "* O bloco será executado uma ou mais vezes, até que a condição se torne verdadeira.\n",
        "* O comando **```break```** provoca a interrupção da repetição.\n",
        "\n",
        "O exemplo abaixo mostra como esta estrutura pode ser usada para solicitar uma senha ao usuário até que ele acerte a senha:"
      ]
    },
    {
      "cell_type": "code",
      "metadata": {
        "collapsed": true,
        "scrolled": false,
        "id": "3Qd-nLNzk3s8"
      },
      "source": [
        "senha_correta = \"swordfish\"\n",
        "while True:\n",
        "    senha = input(\"Informe sua senha: \")\n",
        "    if senha == senha_correta:\n",
        "        break\n",
        "    else:\n",
        "        print(\"Senha incorreta!\")"
      ],
      "execution_count": null,
      "outputs": []
    },
    {
      "cell_type": "markdown",
      "metadata": {
        "id": "_StFtGCNk3s9"
      },
      "source": [
        "### Exercícios de fixação"
      ]
    },
    {
      "cell_type": "markdown",
      "metadata": {
        "id": "b2jCLYRZk3s9"
      },
      "source": [
        "1 - Sorteie um número entre 0 e 10 e peça ao usuário para tentar adivinhá-lo. Quando o usuário acertar o número, informe quantas tentativas foram necessárias."
      ]
    },
    {
      "cell_type": "code",
      "metadata": {
        "collapsed": true,
        "id": "WWfy2Y8dk3s9",
        "colab": {
          "base_uri": "https://localhost:8080/"
        },
        "outputId": "1825c9f5-ebd4-487e-cade-ad2c13ac6ea9"
      },
      "source": [
        "from random import randint\n",
        "n = randint(0,10)\n",
        "while True:\n",
        "  escolha = int(input(\"Tente adivinhar o numero sorteado de 0 a 10:\"))\n",
        "  if escolha==n:\n",
        "    print(\"Acerto mizeravi!\")\n",
        "    break\n",
        "  else:\n",
        "    print(\"Errou tente novamente\")"
      ],
      "execution_count": 17,
      "outputs": [
        {
          "output_type": "stream",
          "text": [
            "Tente adivinhar o numero sorteado:4\n",
            "Errou tente novamente\n",
            "Tente adivinhar o numero sorteado:0\n",
            "Errou tente novamente\n",
            "Tente adivinhar o numero sorteado:1\n",
            "Errou tente novamente\n",
            "Tente adivinhar o numero sorteado:2\n",
            "Acerto mizeravi!\n"
          ],
          "name": "stdout"
        }
      ]
    },
    {
      "cell_type": "markdown",
      "metadata": {
        "id": "LSgNujJTk3s-"
      },
      "source": [
        "### Pulando parte do código\n",
        "\n",
        "É possível evitar que parte do código seja executada durante uma repetição utilizando o comando ```continue```.\n"
      ]
    },
    {
      "cell_type": "code",
      "metadata": {
        "scrolled": true,
        "id": "cV1BqHqDk3s-"
      },
      "source": [
        "soma = 0\n",
        "for i in range(10):\n",
        "    if i == 3:\n",
        "        continue\n",
        "    print(i)"
      ],
      "execution_count": null,
      "outputs": []
    },
    {
      "cell_type": "markdown",
      "metadata": {
        "id": "tVlipPHKk3s-"
      },
      "source": [
        "### Exercícios de fixação"
      ]
    },
    {
      "cell_type": "markdown",
      "metadata": {
        "id": "VzyVm04Fk3s_"
      },
      "source": [
        "1 - Imprima os números partes entre 0 e 50, pulando os números múltiplos de 4. Use o comando ```continue```."
      ]
    },
    {
      "cell_type": "code",
      "metadata": {
        "collapsed": true,
        "id": "bG4gnbCBk3s_",
        "colab": {
          "base_uri": "https://localhost:8080/"
        },
        "outputId": "df6e6df8-c39c-4ab8-e214-dbf28e6aacf4"
      },
      "source": [
        "for i in range(0,50):\n",
        "  if i%4==0:\n",
        "    continue\n",
        "  print(i)"
      ],
      "execution_count": 21,
      "outputs": [
        {
          "output_type": "stream",
          "text": [
            "1\n",
            "2\n",
            "3\n",
            "5\n",
            "6\n",
            "7\n",
            "9\n",
            "10\n",
            "11\n",
            "13\n",
            "14\n",
            "15\n",
            "17\n",
            "18\n",
            "19\n",
            "21\n",
            "22\n",
            "23\n",
            "25\n",
            "26\n",
            "27\n",
            "29\n",
            "30\n",
            "31\n",
            "33\n",
            "34\n",
            "35\n",
            "37\n",
            "38\n",
            "39\n",
            "41\n",
            "42\n",
            "43\n",
            "45\n",
            "46\n",
            "47\n",
            "49\n"
          ],
          "name": "stdout"
        }
      ]
    },
    {
      "cell_type": "markdown",
      "metadata": {
        "id": "KH1w2-vGk3s_"
      },
      "source": [
        "## Combinando múltiplas estruturas de repetição"
      ]
    },
    {
      "cell_type": "markdown",
      "metadata": {
        "id": "daqXvILHk3s_"
      },
      "source": [
        "Assim como vimos para estruturas de decisão, também podemos combinar estruturas de repetição em múltiplos níveis. \n",
        "\n",
        "As regras básicas para **aninhar estruturas de repetição** em Python são:\n",
        "* Não há limite com relação a quantas estruturas e em quantos níveis.\n",
        "* Blocos de níveis mais profundos devem apresentar maior grau de identação.\n",
        "* Os efeitos dos comandos ```break``` e ```continue``` se limitam ao nível atual.\n",
        "\n",
        "O exemplo abaixo mostra como imprimir uma matriz identidade. Note que a função ```print``` pode ser usada para imprimir várias vezes em uma mesma linha, utilizando pra isso a opção ```end```."
      ]
    },
    {
      "cell_type": "code",
      "metadata": {
        "collapsed": true,
        "id": "E_EqLHL5k3tA"
      },
      "source": [
        "for i in range(3):\n",
        "    for j in range(3):\n",
        "        if i == j:\n",
        "            print(\" 1 \", end='')\n",
        "        else:\n",
        "            print(\" 0 \", end='')\n",
        "    print()"
      ],
      "execution_count": null,
      "outputs": []
    },
    {
      "cell_type": "markdown",
      "metadata": {
        "collapsed": true,
        "id": "SvZihTEGk3tA"
      },
      "source": [
        "## Exercícios do URI"
      ]
    },
    {
      "cell_type": "markdown",
      "metadata": {
        "collapsed": true,
        "id": "GID720R9k3tB"
      },
      "source": [
        "[1080](https://www.urionlinejudge.com.br/judge/pt/problems/view/1080) - Calcular estatísticas é uma importante tarefa dos sistema de computação que trabalham com análise de dados. Em um roteiro anterior, você implementou uma função para uso em histogramas, que informava a qual intervalo um elemento pertencia.\n",
        "\n",
        "Neste exercício, você vai voltar pro mundo real e de fato preparar um histograma dos dados (colher de chá: não precisa gerar o gráfico no final).\n",
        "\n",
        "Escreva um código Python que receba um inteiro informando quantos números no intervalo \\[0,100\\) serão informados a seguir. Considerando 5 subintervalos de igual tamanho, seu programa deverá calcular a frequência de elementos presentes em cada subintervalo.\n",
        "\n",
        "Por fim, seu programa deverá informar os elementos máximo e mínimo encontrados nos dados, e suas posições na sequência dos dados de entrada."
      ]
    },
    {
      "cell_type": "markdown",
      "metadata": {
        "id": "vU7YE6apk3tB"
      },
      "source": [
        "|.| Entrada | Saída |\n",
        "|-|:----:|---|\n",
        "| *Exemplo 1* | 5<br/>100<br/>40<br/>32<br/>87<br/>90 | \\[0,20\\) - 1 <br/> \\[20,40\\) - 1 <br/> \\[40,60\\) - 1 <br/> \\[60,80\\) - 0 <br/> \\[80,100\\) - 3  <br/> Máximo: 100 (0) <br/> Mínimo: 32 (2) | \n",
        "| *Exemplo 2* | 3<br/>12<br/>29<br/>45 | \\[0,20\\) - 1 <br/> \\[20,40\\) - 1 <br/> \\[40,60\\) - 1 <br/> \\[60,80\\) - 0 <br/> \\[80,100\\) - 0  <br/> Máximo: 45 (2) <br/> Mínimo: 12 (0) | \n",
        "| *Exemplo 3* | 7<br/>13<br/>88<br/>45<br/>63<br/>94<br/>27<br/>5 | \\[0,20\\) - 1 <br/> \\[20,40\\) - 1 <br/> \\[40,60\\) - 1 <br/> \\[60,80\\) - 1 <br/> \\[80,100\\) - 2  <br/> Máximo: 94 (4) <br/> Mínimo: 5 (6) | \n"
      ]
    },
    {
      "cell_type": "code",
      "metadata": {
        "colab": {
          "base_uri": "https://localhost:8080/"
        },
        "id": "pYectf6lwEog",
        "outputId": "338b7f9f-be04-4a19-c61d-33946b2383cb"
      },
      "source": [
        "from random import randint\n",
        "n = int(input(\"Digite a quantidade de numeros sorteados\"))\n",
        "i0_20 = 0\n",
        "i20_40 = 0\n",
        "i40_60 = 0\n",
        "i60_80 = 0\n",
        "i80_100 = 0\n",
        "maior=0\n",
        "menor=101\n",
        "maior_pos=0\n",
        "maior_pos=0\n",
        "for i in range(0,n):\n",
        "  numero = randint(0,101)\n",
        "  if numero>maior:\n",
        "    maior=numero\n",
        "    maior_pos=i\n",
        "  if numero<menor:\n",
        "    menor=numero\n",
        "    menor_pos=i\n",
        "  if numero >=0 and numero <20:\n",
        "    i0_20+=1\n",
        "  if numero >=20 and numero  <40:\n",
        "    i20_40+=1\n",
        "  if numero >=40 and numero <60:\n",
        "    i40_60+=1\n",
        "  if numero >=60 and numero <80:\n",
        "    i60_80+=1\n",
        "  if numero >=80 and numero <100:\n",
        "    i80_100+=1\n",
        "print(\"[0,20) - %i\" %i0_20)\n",
        "print(\"[20,40) - %i\"%i20_40)\n",
        "print(\"[40,60) - %i\"%i40_60)\n",
        "print(\"[60,80) - %i\"%i60_80)\n",
        "print(\"[80,100) - %i\"%i80_100)\n",
        "print(\"Maximo:\",maior,\"(\", maior_pos ,\")\")\n",
        "print(\"Minimo:\",menor,\"(\", menor_pos ,\")\")"
      ],
      "execution_count": 35,
      "outputs": [
        {
          "output_type": "stream",
          "text": [
            "Digite a quantidade de numeros sorteados10000\n",
            "[0,20) - 1973\n",
            "[20,40) - 1990\n",
            "[40,60) - 1951\n",
            "[60,80) - 1927\n",
            "[80,100) - 1933\n",
            "Maximo: 101 ( 34 )\n",
            "Minimo: 0 ( 88 )\n"
          ],
          "name": "stdout"
        }
      ]
    },
    {
      "cell_type": "markdown",
      "metadata": {
        "collapsed": true,
        "id": "wU_sDdpBk3tC"
      },
      "source": [
        "[1164](https://www.urionlinejudge.com.br/judge/pt/problems/view/1164) - Um número **perfeito** é um número igual à soma dos seus divisores (exceto ele mesmo).\n",
        "\n",
        "O número 28 é um exemplo de número perfeito: 28 = 1 + 2 + 4 + 7 + 14.\n",
        "\n",
        "[1165](https://www.urionlinejudge.com.br/judge/pt/problems/view/1165) - Um número **primo** é um número que só pode ser dividido por 1 e por ele mesmo. \n",
        "\n",
        "O número 17, por exemplo, só pode ser dividido por 1 e por 17.\n",
        "\n",
        "Escreva um código Python que receba um inteiro N e imprima os números do intervalo [1,N] que são primos ou perfeitos."
      ]
    },
    {
      "cell_type": "markdown",
      "metadata": {
        "collapsed": true,
        "id": "DYcPlxKwk3tD"
      },
      "source": [
        "|.| Entrada | Saída |\n",
        "|-|:-:|:-|\n",
        "| *Exemplo 1* | 10 | 1 2 3 5 6 7 10 | \n",
        "| *Exemplo 2* | 15 | 1 2 3 5 6 7 10 11 13 |\n",
        "| *Exemplo 3* | 20 | 1 2 3 5 6 7 10 11 13 17 19 |"
      ]
    },
    {
      "cell_type": "code",
      "metadata": {
        "collapsed": true,
        "id": "slO5NMx3k3tE",
        "colab": {
          "base_uri": "https://localhost:8080/"
        },
        "outputId": "e4c779a6-0941-4654-9e72-4543774afb2b"
      },
      "source": [
        "def primo(n):\n",
        "  mult=0\n",
        "  for count in range(2,n):\n",
        "      if (n % count == 0):\n",
        "          mult += 1\n",
        "  if mult==0:\n",
        "    return True\n",
        "  else:\n",
        "    return False\n",
        "def perfeito(n):\n",
        "  soma=0\n",
        "  for val in range(1,n):\n",
        "      if n % val == 0:\n",
        "          soma += val\n",
        "  if soma==n:\n",
        "      return True\n",
        "  else:\n",
        "      return False\n",
        "n = int(input(\"Digite o numero:\"))\n",
        "for i in range(0,n):\n",
        "  if primo(i) or perfeito(i):\n",
        "    print(i)"
      ],
      "execution_count": 42,
      "outputs": [
        {
          "output_type": "stream",
          "text": [
            "Digite o numero:20\n",
            "0\n",
            "1\n",
            "2\n",
            "3\n",
            "5\n",
            "6\n",
            "7\n",
            "11\n",
            "13\n",
            "17\n",
            "19\n"
          ],
          "name": "stdout"
        }
      ]
    },
    {
      "cell_type": "markdown",
      "metadata": {
        "collapsed": true,
        "id": "akftfIivk3tE"
      },
      "source": [
        "[1789](https://www.urionlinejudge.com.br/judge/pt/problems/view/1789) - Jogos de corrida utilizam simulações baseadas nas regras da física para trazer realismo à experiência do usuário.\n",
        "\n",
        "Neste exercício, você deve simular uma das regras mais simples da mecânica clássica, que mostra que a distância percorrida por um objeto é proporcional à sua velocidade.\n",
        "\n",
        "Neste jogo serão 3 corredores, cada um com uma velocidade dada por um número real sorteado no intervalo [0,100) m/s.\n",
        "\n",
        "Considere que todos os competidores partem do mesmo lugar e apresente a posição de cada corredor atualizada segundo a segundo.\n",
        "\n",
        "Considere ainda que a linha de chegada está a 482m de distância do ponto de partida e encerre a corrida quando o vencedor cruzar a linha, identificando o vencedor.\n",
        "\n",
        "** Dica --** Para gerar um número real aleatório no intervalo [0,100), utilize a função ```uniform(0,100)```."
      ]
    },
    {
      "cell_type": "markdown",
      "metadata": {
        "collapsed": true,
        "id": "9RKJrtb8k3tF"
      },
      "source": [
        "|.| Velocidades | Saída |\n",
        "|-|:-:|:-|\n",
        "| *Exemplo 1* | 15.38<br/>55.49<br/>48.65  | 15.38 55.49 48.65 <br/> 30.76 110.98 97.30 <br/> 46.14 166.47 145.95 <br/> 61.52 221.96 194.60 <br/> 76.90 277.45 243.25 <br/> 92.28 332.94 291.90 <br/> 107.66 388.43 340.55 <br/> 123.04 443.92 389.20 <br/> 138.42 499.41 437.85 <br/> P2 | \n",
        "| *Exemplo 2* | 42.27<br/>95.26<br/>72.25 | 42.27 95.26 72.25 <br/> 84.54 190.52 144.50 <br/> 126.81 285.78 216.75 <br/> 169.08 381.04 289.00 <br/> 211.35 476.30 361.25 <br/> 253.62 571.56 433.50 <br/> P2 |\n",
        "| *Exemplo 3* | 98.76<br/>93.21<br/>96.65 | 98.76 93.21 96.65 <br/> 197.52 186.42 193.30 <br/> 296.28 279.63 289.95 <br/> 395.04 372.84 386.60 <br/> 493.80 466.05 483.25 <br/> P1 |"
      ]
    },
    {
      "cell_type": "code",
      "metadata": {
        "collapsed": true,
        "id": "v5KlnRsXk3tH",
        "colab": {
          "base_uri": "https://localhost:8080/"
        },
        "outputId": "023fb5cb-f98f-40e0-c37f-dcf9007a6803"
      },
      "source": [
        "from random import uniform\n",
        "inic_carro1 = uniform(0,100)\n",
        "inic_carro2 = uniform(0,100)\n",
        "inic_carro3 = uniform(0,100)\n",
        "carro1=inic_carro1\n",
        "carro2=inic_carro2\n",
        "carro3=inic_carro3\n",
        "vencedor=\"P\"\n",
        "while True:\n",
        "  print(carro1,carro2,carro3)\n",
        "  if carro1>482.00:\n",
        "    vencedor=\"P1\"\n",
        "    break\n",
        "  if carro2>482:\n",
        "    vencedor=\"P2\"\n",
        "    break\n",
        "  if carro3>482:\n",
        "    vencedor=\"P3\"\n",
        "    break\n",
        "  carro1+=inic_carro1\n",
        "  carro2+=inic_carro2\n",
        "  carro3+=inic_carro3\n",
        "print(carro1,carro2,carro3)\n",
        "print(vencedor)"
      ],
      "execution_count": 55,
      "outputs": [
        {
          "output_type": "stream",
          "text": [
            "13.005301614734321 20.10245670340155 25.251386463911086\n",
            "26.010603229468643 40.2049134068031 50.50277292782217\n",
            "39.015904844202964 60.30737011020465 75.75415939173325\n",
            "52.021206458937286 80.4098268136062 101.00554585564434\n",
            "65.02650807367161 100.51228351700775 126.25693231955543\n",
            "78.03180968840593 120.61474022040929 151.5083187834665\n",
            "91.03711130314025 140.71719692381083 176.75970524737758\n",
            "104.04241291787457 160.81965362721238 202.01109171128866\n",
            "117.0477145326089 180.92211033061392 227.26247817519973\n",
            "130.05301614734321 201.02456703401546 252.5138646391108\n",
            "143.05831776207754 221.127023737417 277.7652511030219\n",
            "156.06361937681186 241.22948044081855 303.016637566933\n",
            "169.06892099154618 261.3319371442201 328.2680240308441\n",
            "182.0742226062805 281.43439384762166 353.5194104947552\n",
            "195.07952422101482 301.53685055102324 378.7707969586663\n",
            "208.08482583574914 321.6393072544248 404.0221834225774\n",
            "221.09012745048346 341.7417639578264 429.27356988648853\n",
            "234.0954290652178 361.84422066122795 454.52495635039963\n",
            "247.1007306799521 381.9466773646295 479.77634281431074\n",
            "260.10603229468643 402.0491340680311 505.02772927822184\n",
            "260.10603229468643 402.0491340680311 505.02772927822184\n",
            "P3\n"
          ],
          "name": "stdout"
        }
      ]
    },
    {
      "cell_type": "markdown",
      "metadata": {
        "collapsed": true,
        "id": "KGZ33H_Mk3tH"
      },
      "source": [
        "[1828](https://www.urionlinejudge.com.br/judge/pt/problems/view/1828) - Pedra, paper e tesoura, ou じゃんけんぽん (jankenpon), é um jogo simples que envolve apenas quatro regras:\n",
        "\n",
        "- Dois jogadores disputam entre si, podendo escolher entre 3 opções de ação: pedra, papel ou tesoura.\n",
        "- A pedra quebra a tesoura.\n",
        "- A tesoura corta o papel.\n",
        "- O papel embrulha a pedra.\n",
        "\n",
        "Também é possível que não haja um vencedor, quando os dois jogadores escolhem a mesma ação.\n",
        "\n",
        "Escreva um código Python que receba um inteiro informando número de rodadas de uma partida e simule dois jogadores competindo entre si. Você deve imprimir as ações e o vencedor de cada rodada, bem como o vencedor da partida."
      ]
    },
    {
      "cell_type": "markdown",
      "metadata": {
        "id": "S1NARpZZk3tI"
      },
      "source": [
        "|.| Entrada | Saída |\n",
        "|-|:-:|:-|\n",
        "| *Exemplo 1* | 3  | Jogador 2 <br/> Empate <br/> Jogador 2 <br/> Placar final: 0 x 2 <br/> Partida vencida pelo Jogador 2! | \n",
        "| *Exemplo 2* | 5 | Jogador 1 <br/> Jogador 1 <br/> Empate <br/> Empate <br/> Jogador 1 <br/> Placar final: 3 x 0 <br/> Partida vencida pelo Jogador 1! |\n",
        "| *Exemplo 3* | 4 | Empate <br/> Jogador 2 <br/> Empate <br/> Empate <br/> Placar final: 0 x 1 <br/> Partida vencida pelo Jogador 2! |"
      ]
    },
    {
      "cell_type": "code",
      "metadata": {
        "collapsed": true,
        "id": "0hZQEdO7k3tJ",
        "colab": {
          "base_uri": "https://localhost:8080/"
        },
        "outputId": "71fe36c3-aae0-4c05-fd8f-6b6896c3785e"
      },
      "source": [
        "from random import randint\n",
        "# 1 = Pedra\n",
        "# 2 = Tesoura\n",
        "# 3 = Papel\n",
        "pontos1=0\n",
        "pontos2=0\n",
        "n = int(input(\"Digite o numero de rodadas:\"))\n",
        "for i in range(0,n):\n",
        "  jogador1 = randint(1,3)\n",
        "  jogador2 = randint(1,3)\n",
        "  if jogador1 == 1 and jogador2 == 2:\n",
        "    print(\"Jogador 1\")\n",
        "    pontos1+=1\n",
        "  if jogador1 == 1 and jogador2 == 3:\n",
        "    print(\"Jogador 2\")\n",
        "    pontos2+=1\n",
        "  if jogador1 == 2 and jogador2 == 3:\n",
        "    print(\"Jogador 1\")\n",
        "    pontos1+=1\n",
        "  if jogador1 == 2 and jogador2 == 1:\n",
        "    print(\"Jogador 2\")\n",
        "    pontos2+=1\n",
        "  if jogador1 == 3 and jogador2 == 1:\n",
        "    print(\"Jogador 1\")\n",
        "    pontos1+=1\n",
        "  if jogador1 == 3 and jogador2 == 2:\n",
        "    print(\"Jogador 2\")\n",
        "    pontos2+=1\n",
        "  if jogador1 == jogador2:\n",
        "    print(\"Empate\")\n",
        "if pontos1>pontos2:\n",
        "  print(\"Partida vencida pelo Jogador 1!\")\n",
        "elif pontos1<pontos2:\n",
        "  print(\"Partida vencida pelo Jogador 2!\")\n",
        "else:\n",
        "  print(\"A partida terminou em Empate\")"
      ],
      "execution_count": 66,
      "outputs": [
        {
          "output_type": "stream",
          "text": [
            "Digite o numero de rodadas:1\n",
            "Empate\n",
            "A partida terminou em Empate\n"
          ],
          "name": "stdout"
        }
      ]
    },
    {
      "cell_type": "markdown",
      "metadata": {
        "id": "MYJmai1ak3tJ"
      },
      "source": [
        "Agora que você já sabe até como criar um jogo de jonkenpon, implemente uma versão em que você pode jogar contra o computador e mostre que você pode derrotá-lo :D"
      ]
    },
    {
      "cell_type": "code",
      "metadata": {
        "collapsed": true,
        "id": "QNF8MSkHk3tJ",
        "colab": {
          "base_uri": "https://localhost:8080/"
        },
        "outputId": "a227adac-c5cd-4d82-da59-c96065a0e0eb"
      },
      "source": [
        "from random import randint\n",
        "# 1 = Pedra\n",
        "# 2 = Tesoura\n",
        "# 3 = Papel\n",
        "pontos1=0\n",
        "pontos2=0\n",
        "n = int(input(\"Digite o numero de rodadas:\"))\n",
        "for i in range(0,n):\n",
        "  jogador1 = int(input(\"Escolha uma alternativa:\\n1 - Pedra\\n2 - Tesoura\\n3 - Papel\\n\"))\n",
        "  jogador2 = randint(1,3)\n",
        "  if jogador1 == 1 and jogador2 == 2:\n",
        "    print(\"Jogador 1\")\n",
        "    pontos1+=1\n",
        "  if jogador1 == 1 and jogador2 == 3:\n",
        "    print(\"Jogador 2\")\n",
        "    pontos2+=1\n",
        "  if jogador1 == 2 and jogador2 == 3:\n",
        "    print(\"Jogador 1\")\n",
        "    pontos1+=1\n",
        "  if jogador1 == 2 and jogador2 == 1:\n",
        "    print(\"Jogador 2\")\n",
        "    pontos2+=1\n",
        "  if jogador1 == 3 and jogador2 == 1:\n",
        "    print(\"Jogador 1\")\n",
        "    pontos1+=1\n",
        "  if jogador1 == 3 and jogador2 == 2:\n",
        "    print(\"Jogador 2\")\n",
        "    pontos2+=1\n",
        "  if jogador1 == jogador2:\n",
        "    print(\"Empate\")\n",
        "if pontos1>pontos2:\n",
        "  print(\"Partida vencida pelo Jogador 1!\")\n",
        "elif pontos1<pontos2:\n",
        "  print(\"Partida vencida pelo Jogador 2!\")\n",
        "else:\n",
        "  print(\"A partida terminou em Empate\")"
      ],
      "execution_count": 69,
      "outputs": [
        {
          "output_type": "stream",
          "text": [
            "Digite o numero de rodadas:3\n",
            "Escolha uma alternativa:\n",
            "1 - Pedra\n",
            "2 - Tesoura\n",
            "3 - Papel\n",
            "1\n",
            "Jogador 2\n",
            "Escolha uma alternativa:\n",
            "1 - Pedra\n",
            "2 - Tesoura\n",
            "3 - Papel\n",
            "2\n",
            "Jogador 1\n",
            "Escolha uma alternativa:\n",
            "1 - Pedra\n",
            "2 - Tesoura\n",
            "3 - Papel\n",
            "3\n",
            "Empate\n",
            "A partida terminou em Empate\n"
          ],
          "name": "stdout"
        }
      ]
    },
    {
      "cell_type": "markdown",
      "metadata": {
        "id": "6BSAzG2ak3tK"
      },
      "source": [
        "[Blackjack](https://pt.wikipedia.org/wiki/Blackjack) - Vinte-e-um (21) é um dos mais icônicos jogos de cartas, onde um jogador real compete contra um jogador imaginário (a banca) para ver quem consegue o jogo de maior valor sem estourar o limite de 21 pontos.\n",
        "\n",
        "Por simplicidade, considere apenas as seguintes regras:\n",
        "- Cada jogador pode pedir uma carta por rodada ou dizer que quer parar de pedir.\n",
        "- O jogador que acumular mais de 21 pontos perde a partida.\n",
        "- Se o jogador e a banca atingirem o mesmo número de pontos, a partida termina empatada.\n",
        "- As cartas numéricas valem o número de pontos que elas indicam (ex: 2 vale 2, 10 vale 10).\n",
        "- As cartas de figuras (rei, valete e dama) valem 10 pontos.\n",
        "- O Ás vale 11 pontos.\n",
        "\n",
        "Escreva um código Python que te permite jogar blackjack contra o computador, escrevendo a cada rodada o valor do jogo de cada jogador e, ao final, o vencedor da partida."
      ]
    },
    {
      "cell_type": "code",
      "metadata": {
        "collapsed": true,
        "id": "QdM4OQOsk3tK",
        "colab": {
          "base_uri": "https://localhost:8080/"
        },
        "outputId": "b68dbe10-e686-443e-c0e1-2e3c8f18635b"
      },
      "source": [
        "def carregando():\n",
        "  import time, sys\n",
        "  for i in list(\"...\\n\"):\n",
        "    print(i, end='')\n",
        "    sys.stdout.flush()\n",
        "    time.sleep(1.3)\n",
        "  return\n",
        "def puxar(n):\n",
        "  if n>0 and n<10:\n",
        "    print(\" _____\\n|%i .  |\\n| /.\\ |\\n|(_._)|\\n|  |  |\\n|____V|\\n\"%n)\n",
        "    return\n",
        "  if n==10:\n",
        "    temp=randint(1,4)\n",
        "    if temp==1:\n",
        "      print(\" _____\\n|10 . |\\n| /.\\ |\\n|(_._)|\\n|  |  |\\n|____V|\\n\")\n",
        "      return\n",
        "    if temp==2:\n",
        "      print(\" _____ \\n|K  WW|\\n| ^ {)|\\n|(.)%%|\\n| |%%%|\\n|_%%%>|\\n\")\n",
        "      return\n",
        "    if temp==3:\n",
        "      print(\" _____ \\n|J  ww|\\n| ^ {)|\\n|(.)% |\\n| | % |\\n|__%%[|\\n\")\n",
        "      return\n",
        "    if temp==4:\n",
        "      print(\" _____ \\n|Q  ww|\\n| ^ {(|\\n|(.)%%|\\n| |%%%|\\n|_%%%O|\\n\")\n",
        "      return\n",
        "  if n==11:\n",
        "    print(\" _____\\n|A .  |\\n| /.\\ |\\n|(_._)|\\n|  |  |\\n|____V|\\n\")\n",
        "    return\n",
        "  \n",
        "\n",
        "\n",
        "print(\"BEM VINDO AO JOGO 21\\n\")\n",
        "print(\"Vinte-e-um (21) é um dos mais icônicos jogos de cartas,\\nonde um jogador real compete contra um jogador imaginário (a banca)\\n para ver quem consegue o jogo de maior valor sem estourar o limite de 21 pontos.\\n\")\n",
        "jogador1=0\n",
        "jogador2=0\n",
        "\n",
        "while True:\n",
        "  alt1=0\n",
        "  while alt1 != 1 and alt1 != 2 :\n",
        "    alt1 = int(input(\"Escolha uma alternativa:\\n1 - Puxar uma carta\\n2 - Parar\\n\"))\n",
        "    print(\"Opção escolhida:\",alt1)\n",
        "    if alt1 != 1 and alt1 != 2:\n",
        "      print(\"Numero inserido não faz parte das alternativas, tente novamente!\")\n",
        "\n",
        "  if alt1==1:\n",
        "    print(\"Puxando carta\",end=\"\")\n",
        "    carregando()\n",
        "    puxada1=0\n",
        "    puxada1=randint(1,11)\n",
        "    jogador1+=puxada1\n",
        "    puxar(puxada1)\n",
        "    print(\"Valor da carta puxada\",puxada1)\n",
        "    print(\"Sua pontuação:\",jogador1)\n",
        "\n",
        "  if alt1==2:\n",
        "    print(\"Parando de puxar\",end=\"\")\n",
        "    carregando()\n",
        "    break\n",
        "while jogador2<18:\n",
        "  puxada2=randint(1,11)\n",
        "  jogador2+=puxada2\n",
        "print(\"Sua pontuação:\",jogador1)\n",
        "print(\"Pontuação da Banca:\",jogador2)\n",
        "if jogador1<=21 and jogador1>jogador2:\n",
        "  print(\"Você venceu a partida para Parabens!!\")\n",
        "elif jogador2<=21 and jogador2>jogador1:\n",
        "  print(\"Infelizmente você perdeu a partida!!\")\n",
        "elif (jogador1 > 21 and jogador2>21) or (jogador1==jogador2):\n",
        "  print(\"A partida acabou em empate\")\n"
      ],
      "execution_count": null,
      "outputs": [
        {
          "output_type": "stream",
          "text": [
            "BEM VINDO AO JOGO 21\n",
            "\n",
            "Vinte-e-um (21) é um dos mais icônicos jogos de cartas,\n",
            "onde um jogador real compete contra um jogador imaginário (a banca)\n",
            " para ver quem consegue o jogo de maior valor sem estourar o limite de 21 pontos.\n",
            "\n",
            "Escolha uma alternativa:\n",
            "1 - Puxar uma carta\n",
            "2 - Parar\n",
            "1\n",
            "Opção escolhida: 1\n",
            "Puxando carta...\n",
            " _____\n",
            "|6 .  |\n",
            "| /.\\ |\n",
            "|(_._)|\n",
            "|  |  |\n",
            "|____V|\n",
            "\n",
            "Valor da carta puxada 6\n",
            "Sua pontuação: 6\n"
          ],
          "name": "stdout"
        }
      ]
    }
  ]
}